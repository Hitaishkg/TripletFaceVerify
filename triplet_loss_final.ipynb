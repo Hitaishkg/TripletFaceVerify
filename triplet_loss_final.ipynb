{
 "cells": [
  {
   "cell_type": "code",
   "execution_count": 1,
   "metadata": {},
   "outputs": [
    {
     "name": "stderr",
     "output_type": "stream",
     "text": [
      "2024-07-18 02:16:20.542296: I tensorflow/core/platform/cpu_feature_guard.cc:182] This TensorFlow binary is optimized to use available CPU instructions in performance-critical operations.\n",
      "To enable the following instructions: AVX2 FMA, in other operations, rebuild TensorFlow with the appropriate compiler flags.\n",
      "2024-07-18 02:16:21.199952: W tensorflow/compiler/tf2tensorrt/utils/py_utils.cc:38] TF-TRT Warning: Could not find TensorRT\n"
     ]
    }
   ],
   "source": [
    "import os\n",
    "import tensorflow as tf\n",
    "from tensorflow.keras.layers import Input, Conv2D, MaxPooling2D, Flatten, Dense\n",
    "from tensorflow.keras.models import Model\n",
    "from tensorflow.keras.callbacks import ModelCheckpoint, TensorBoard\n",
    "import datetime"
   ]
  },
  {
   "cell_type": "code",
   "execution_count": 2,
   "metadata": {},
   "outputs": [],
   "source": [
    "# # Avoid OOM errors by setting GPU Memory Consumption Growth\n",
    "# gpus = tf.config.experimental.list_physical_devices('GPU')\n",
    "# for gpu in gpus: \n",
    "#     tf.config.experimental.set_memory_growth(gpu, True)\n",
    "\n"
   ]
  },
  {
   "cell_type": "code",
   "execution_count": 3,
   "metadata": {},
   "outputs": [],
   "source": [
    "# # Check for GPU availability\n",
    "# gpus = tf.config.list_physical_devices('GPU')\n",
    "# if gpus:\n",
    "#     try:\n",
    "#         for gpu in gpus:\n",
    "#             tf.config.experimental.set_memory_growth(gpu, True)\n",
    "#         logical_gpus = tf.config.list_logical_devices('GPU')\n",
    "#         print(f\"{len(gpus)} Physical GPUs, {len(logical_gpus)} Logical GPUs\")\n",
    "#     except RuntimeError as e:\n",
    "#         print(e)\n",
    "# else:\n",
    "#     print(\"No GPUs found. Using CPU.\")"
   ]
  },
  {
   "cell_type": "code",
   "execution_count": 4,
   "metadata": {},
   "outputs": [],
   "source": [
    "# Set up logging and checkpoint directories\n",
    "checkpoint_path = \"training_checkpoints/cp-{epoch:04d}.ckpt\"\n",
    "checkpoint_dir = os.path.dirname(checkpoint_path)\n",
    "log_dir = \"logs/fit/\" + datetime.datetime.now().strftime(\"%Y%m%d-%H%M%S\")\n",
    "\n",
    "# Create directories if they don't exist\n",
    "os.makedirs(checkpoint_dir, exist_ok=True)\n",
    "os.makedirs(log_dir, exist_ok=True)"
   ]
  },
  {
   "cell_type": "code",
   "execution_count": 5,
   "metadata": {},
   "outputs": [],
   "source": [
    "\n",
    "# Preprocessing function\n",
    "def preprocess(image_path):\n",
    "    image = tf.io.read_file(image_path)\n",
    "    image = tf.image.decode_jpeg(image)\n",
    "    image = tf.image.resize(image, (100, 100))\n",
    "    image = image / 255.0\n",
    "    return image\n"
   ]
  },
  {
   "cell_type": "code",
   "execution_count": 6,
   "metadata": {},
   "outputs": [],
   "source": [
    "# Function to preprocess a triplet of images\n",
    "def preprocess_triplet(anchor_path, positive_path, negative_path):\n",
    "    return (\n",
    "        preprocess(anchor_path),\n",
    "        preprocess(positive_path),\n",
    "        preprocess(negative_path)\n",
    "    )\n"
   ]
  },
  {
   "cell_type": "code",
   "execution_count": 7,
   "metadata": {},
   "outputs": [],
   "source": [
    "# Define paths to your data directories\n",
    "ANC_PATH = 'build_siamies_network/data/anchor'\n",
    "POS_PATH = 'build_siamies_network/data/positive'\n",
    "NEG_PATH = 'build_siamies_network/data/negative'"
   ]
  },
  {
   "cell_type": "code",
   "execution_count": 8,
   "metadata": {},
   "outputs": [
    {
     "name": "stderr",
     "output_type": "stream",
     "text": [
      "2024-07-18 02:16:22.101660: I tensorflow/compiler/xla/stream_executor/cuda/cuda_gpu_executor.cc:996] successful NUMA node read from SysFS had negative value (-1), but there must be at least one NUMA node, so returning NUMA node zero. See more at https://github.com/torvalds/linux/blob/v6.0/Documentation/ABI/testing/sysfs-bus-pci#L344-L355\n",
      "2024-07-18 02:16:22.131863: I tensorflow/compiler/xla/stream_executor/cuda/cuda_gpu_executor.cc:996] successful NUMA node read from SysFS had negative value (-1), but there must be at least one NUMA node, so returning NUMA node zero. See more at https://github.com/torvalds/linux/blob/v6.0/Documentation/ABI/testing/sysfs-bus-pci#L344-L355\n",
      "2024-07-18 02:16:22.132209: I tensorflow/compiler/xla/stream_executor/cuda/cuda_gpu_executor.cc:996] successful NUMA node read from SysFS had negative value (-1), but there must be at least one NUMA node, so returning NUMA node zero. See more at https://github.com/torvalds/linux/blob/v6.0/Documentation/ABI/testing/sysfs-bus-pci#L344-L355\n",
      "2024-07-18 02:16:22.133913: I tensorflow/compiler/xla/stream_executor/cuda/cuda_gpu_executor.cc:996] successful NUMA node read from SysFS had negative value (-1), but there must be at least one NUMA node, so returning NUMA node zero. See more at https://github.com/torvalds/linux/blob/v6.0/Documentation/ABI/testing/sysfs-bus-pci#L344-L355\n",
      "2024-07-18 02:16:22.134230: I tensorflow/compiler/xla/stream_executor/cuda/cuda_gpu_executor.cc:996] successful NUMA node read from SysFS had negative value (-1), but there must be at least one NUMA node, so returning NUMA node zero. See more at https://github.com/torvalds/linux/blob/v6.0/Documentation/ABI/testing/sysfs-bus-pci#L344-L355\n",
      "2024-07-18 02:16:22.134462: I tensorflow/compiler/xla/stream_executor/cuda/cuda_gpu_executor.cc:996] successful NUMA node read from SysFS had negative value (-1), but there must be at least one NUMA node, so returning NUMA node zero. See more at https://github.com/torvalds/linux/blob/v6.0/Documentation/ABI/testing/sysfs-bus-pci#L344-L355\n",
      "2024-07-18 02:16:22.225795: I tensorflow/compiler/xla/stream_executor/cuda/cuda_gpu_executor.cc:996] successful NUMA node read from SysFS had negative value (-1), but there must be at least one NUMA node, so returning NUMA node zero. See more at https://github.com/torvalds/linux/blob/v6.0/Documentation/ABI/testing/sysfs-bus-pci#L344-L355\n",
      "2024-07-18 02:16:22.226085: I tensorflow/compiler/xla/stream_executor/cuda/cuda_gpu_executor.cc:996] successful NUMA node read from SysFS had negative value (-1), but there must be at least one NUMA node, so returning NUMA node zero. See more at https://github.com/torvalds/linux/blob/v6.0/Documentation/ABI/testing/sysfs-bus-pci#L344-L355\n",
      "2024-07-18 02:16:22.226292: I tensorflow/compiler/xla/stream_executor/cuda/cuda_gpu_executor.cc:996] successful NUMA node read from SysFS had negative value (-1), but there must be at least one NUMA node, so returning NUMA node zero. See more at https://github.com/torvalds/linux/blob/v6.0/Documentation/ABI/testing/sysfs-bus-pci#L344-L355\n",
      "2024-07-18 02:16:22.226470: I tensorflow/core/common_runtime/gpu/gpu_device.cc:1635] Created device /job:localhost/replica:0/task:0/device:GPU:0 with 1172 MB memory:  -> device: 0, name: NVIDIA GeForce RTX 3060 Laptop GPU, pci bus id: 0000:01:00.0, compute capability: 8.6\n"
     ]
    }
   ],
   "source": [
    "# Load image paths\n",
    "anchor_paths = tf.data.Dataset.list_files(os.path.join(ANC_PATH, '*.jpg'), shuffle=False)\n",
    "positive_paths = tf.data.Dataset.list_files(os.path.join(POS_PATH, '*.jpg'), shuffle=False)\n",
    "negative_paths = tf.data.Dataset.list_files(os.path.join(NEG_PATH, '*.jpg'), shuffle=False)\n"
   ]
  },
  {
   "cell_type": "code",
   "execution_count": 9,
   "metadata": {},
   "outputs": [],
   "source": [
    "triplets = tf.data.Dataset.zip((anchor_paths, positive_paths, negative_paths))"
   ]
  },
  {
   "cell_type": "code",
   "execution_count": 10,
   "metadata": {},
   "outputs": [],
   "source": [
    "# Map preprocessing function to the dataset\n",
    "data = triplets.map(lambda anchor, positive, negative: preprocess_triplet(anchor, positive, negative))\n",
    "data = data.cache()\n",
    "data = data.shuffle(buffer_size=1024)"
   ]
  },
  {
   "cell_type": "code",
   "execution_count": 11,
   "metadata": {},
   "outputs": [
    {
     "name": "stderr",
     "output_type": "stream",
     "text": [
      "2024-07-18 02:16:22.391016: I tensorflow/core/common_runtime/executor.cc:1197] [/device:CPU:0] (DEBUG INFO) Executor start aborting (this does not indicate an error and you can ignore this message): INVALID_ARGUMENT: You must feed a value for placeholder tensor 'Placeholder/_0' with dtype string and shape [313]\n",
      "\t [[{{node Placeholder/_0}}]]\n",
      "2024-07-18 02:16:22.391262: I tensorflow/core/common_runtime/executor.cc:1197] [/device:CPU:0] (DEBUG INFO) Executor start aborting (this does not indicate an error and you can ignore this message): INVALID_ARGUMENT: You must feed a value for placeholder tensor 'Placeholder/_4' with dtype string and shape [13233]\n",
      "\t [[{{node Placeholder/_4}}]]\n"
     ]
    }
   ],
   "source": [
    "# Split into training and testing datasets\n",
    "dataset_size = len(list(data))\n",
    "train_size = int(0.7 * dataset_size)\n",
    "train_data = data.take(train_size)\n",
    "test_data = data.skip(train_size)"
   ]
  },
  {
   "cell_type": "code",
   "execution_count": 12,
   "metadata": {},
   "outputs": [],
   "source": [
    "# Add dummy targets\n",
    "def add_dummy_target(anchor, positive, negative):\n",
    "    return (anchor, positive, negative), tf.zeros((1,))"
   ]
  },
  {
   "cell_type": "code",
   "execution_count": 13,
   "metadata": {},
   "outputs": [],
   "source": [
    "# Batch and prefetch datasets\n",
    "batch_size = 2\n",
    "train_data = train_data.batch(batch_size).prefetch(tf.data.AUTOTUNE).map(add_dummy_target)\n",
    "test_data = test_data.batch(batch_size).prefetch(tf.data.AUTOTUNE).map(add_dummy_target)\n"
   ]
  },
  {
   "cell_type": "code",
   "execution_count": 14,
   "metadata": {},
   "outputs": [],
   "source": [
    "# Embedding model architecture\n",
    "def make_embedding():\n",
    "    inp = Input(shape=(100, 100, 3), name='input_image')\n",
    "    x = Conv2D(64, (10, 10), activation='relu')(inp)\n",
    "    x = MaxPooling2D(2, 2, padding='same')(x)\n",
    "    x = Conv2D(128, (7, 7), activation='relu')(x)\n",
    "    x = MaxPooling2D(2, 2, padding='same')(x)\n",
    "    x = Conv2D(128, (4, 4), activation='relu')(x)\n",
    "    x = MaxPooling2D(2, 2, padding='same')(x)\n",
    "    x = Conv2D(256, (4, 4), activation='relu')(x)\n",
    "    x = Flatten()(x)\n",
    "    x = Dense(4096, activation='sigmoid')(x)\n",
    "    return Model(inputs=inp, outputs=x, name='embedding')"
   ]
  },
  {
   "cell_type": "code",
   "execution_count": 15,
   "metadata": {},
   "outputs": [],
   "source": [
    "# Triplet loss function\n",
    "def triplet_loss(margin=0.5):\n",
    "    def _triplet_loss(y_true, y_pred):\n",
    "        anchor, positive, negative = y_pred[:, 0, :], y_pred[:, 1, :], y_pred[:, 2, :]\n",
    "        pos_dist = tf.reduce_sum(tf.square(anchor - positive), axis=-1)\n",
    "        neg_dist = tf.reduce_sum(tf.square(anchor - negative), axis=-1)\n",
    "        basic_loss = pos_dist - neg_dist + margin\n",
    "        loss = tf.reduce_mean(tf.maximum(basic_loss, 0.0))\n",
    "        return loss\n",
    "    return _triplet_loss\n"
   ]
  },
  {
   "cell_type": "code",
   "execution_count": 16,
   "metadata": {},
   "outputs": [],
   "source": [
    "# Triplet model architecture\n",
    "def make_triplet_model(embedding_model):\n",
    "    anchor_input = Input(shape=(100, 100, 3), name='anchor')\n",
    "    positive_input = Input(shape=(100, 100, 3), name='positive')\n",
    "    negative_input = Input(shape=(100, 100, 3), name='negative')\n",
    "    \n",
    "    anchor_embedding = embedding_model(anchor_input)\n",
    "    positive_embedding = embedding_model(positive_input)\n",
    "    negative_embedding = embedding_model(negative_input)\n",
    "    \n",
    "    merged_vector = tf.stack([anchor_embedding, positive_embedding, negative_embedding], axis=1)\n",
    "    \n",
    "    triplet_model = Model(inputs=[anchor_input, positive_input, negative_input], outputs=merged_vector)\n",
    "    triplet_model.compile(loss=triplet_loss(margin=0.5), optimizer='adam')\n",
    "    return triplet_model"
   ]
  },
  {
   "cell_type": "code",
   "execution_count": 17,
   "metadata": {},
   "outputs": [
    {
     "name": "stdout",
     "output_type": "stream",
     "text": [
      "Model: \"embedding\"\n",
      "_________________________________________________________________\n",
      " Layer (type)                Output Shape              Param #   \n",
      "=================================================================\n",
      " input_image (InputLayer)    [(None, 100, 100, 3)]     0         \n",
      "                                                                 \n",
      " conv2d (Conv2D)             (None, 91, 91, 64)        19264     \n",
      "                                                                 \n",
      " max_pooling2d (MaxPooling2D  (None, 46, 46, 64)       0         \n",
      " )                                                               \n",
      "                                                                 \n",
      " conv2d_1 (Conv2D)           (None, 40, 40, 128)       401536    \n",
      "                                                                 \n",
      " max_pooling2d_1 (MaxPooling  (None, 20, 20, 128)      0         \n",
      " 2D)                                                             \n",
      "                                                                 \n",
      " conv2d_2 (Conv2D)           (None, 17, 17, 128)       262272    \n",
      "                                                                 \n",
      " max_pooling2d_2 (MaxPooling  (None, 9, 9, 128)        0         \n",
      " 2D)                                                             \n",
      "                                                                 \n",
      " conv2d_3 (Conv2D)           (None, 6, 6, 256)         524544    \n",
      "                                                                 \n",
      " flatten (Flatten)           (None, 9216)              0         \n",
      "                                                                 \n",
      " dense (Dense)               (None, 4096)              37752832  \n",
      "                                                                 \n",
      "=================================================================\n",
      "Total params: 38,960,448\n",
      "Trainable params: 38,960,448\n",
      "Non-trainable params: 0\n",
      "_________________________________________________________________\n"
     ]
    }
   ],
   "source": [
    "# Create and compile the embedding model\n",
    "embedding_model = make_embedding()\n",
    "embedding_model.summary()\n"
   ]
  },
  {
   "cell_type": "code",
   "execution_count": 18,
   "metadata": {},
   "outputs": [
    {
     "name": "stdout",
     "output_type": "stream",
     "text": [
      "Model: \"model\"\n",
      "__________________________________________________________________________________________________\n",
      " Layer (type)                   Output Shape         Param #     Connected to                     \n",
      "==================================================================================================\n",
      " anchor (InputLayer)            [(None, 100, 100, 3  0           []                               \n",
      "                                )]                                                                \n",
      "                                                                                                  \n",
      " positive (InputLayer)          [(None, 100, 100, 3  0           []                               \n",
      "                                )]                                                                \n",
      "                                                                                                  \n",
      " negative (InputLayer)          [(None, 100, 100, 3  0           []                               \n",
      "                                )]                                                                \n",
      "                                                                                                  \n",
      " embedding (Functional)         (None, 4096)         38960448    ['anchor[0][0]',                 \n",
      "                                                                  'positive[0][0]',               \n",
      "                                                                  'negative[0][0]']               \n",
      "                                                                                                  \n",
      " tf.stack (TFOpLambda)          (None, 3, 4096)      0           ['embedding[0][0]',              \n",
      "                                                                  'embedding[1][0]',              \n",
      "                                                                  'embedding[2][0]']              \n",
      "                                                                                                  \n",
      "==================================================================================================\n",
      "Total params: 38,960,448\n",
      "Trainable params: 38,960,448\n",
      "Non-trainable params: 0\n",
      "__________________________________________________________________________________________________\n"
     ]
    }
   ],
   "source": [
    "# Create and compile the triplet model\n",
    "triplet_model = make_triplet_model(embedding_model)\n",
    "triplet_model.summary()\n"
   ]
  },
  {
   "cell_type": "code",
   "execution_count": 19,
   "metadata": {},
   "outputs": [],
   "source": [
    "# Create checkpoints and TensorBoard callback\n",
    "cp_callback = ModelCheckpoint(filepath=checkpoint_path, save_weights_only=True, verbose=1, save_freq='epoch')\n",
    "tensorboard_callback = TensorBoard(log_dir=log_dir, histogram_freq=1)\n"
   ]
  },
  {
   "cell_type": "code",
   "execution_count": 20,
   "metadata": {},
   "outputs": [
    {
     "name": "stdout",
     "output_type": "stream",
     "text": [
      "Epoch 1/20\n"
     ]
    },
    {
     "name": "stderr",
     "output_type": "stream",
     "text": [
      "2024-07-18 02:16:23.063207: I tensorflow/core/common_runtime/executor.cc:1197] [/device:CPU:0] (DEBUG INFO) Executor start aborting (this does not indicate an error and you can ignore this message): INVALID_ARGUMENT: You must feed a value for placeholder tensor 'Placeholder/_0' with dtype string and shape [313]\n",
      "\t [[{{node Placeholder/_0}}]]\n",
      "2024-07-18 02:16:23.063459: I tensorflow/core/common_runtime/executor.cc:1197] [/device:CPU:0] (DEBUG INFO) Executor start aborting (this does not indicate an error and you can ignore this message): INVALID_ARGUMENT: You must feed a value for placeholder tensor 'Placeholder/_4' with dtype string and shape [13233]\n",
      "\t [[{{node Placeholder/_4}}]]\n",
      "2024-07-18 02:16:23.954760: I tensorflow/compiler/xla/stream_executor/cuda/cuda_dnn.cc:424] Loaded cuDNN version 8600\n",
      "2024-07-18 02:16:24.275764: I tensorflow/compiler/xla/stream_executor/cuda/cuda_blas.cc:637] TensorFloat-32 will be used for the matrix multiplication. This will only be logged once.\n",
      "2024-07-18 02:16:24.326999: I tensorflow/compiler/xla/service/service.cc:169] XLA service 0x722bd3c4ef20 initialized for platform CUDA (this does not guarantee that XLA will be used). Devices:\n",
      "2024-07-18 02:16:24.327028: I tensorflow/compiler/xla/service/service.cc:177]   StreamExecutor device (0): NVIDIA GeForce RTX 3060 Laptop GPU, Compute Capability 8.6\n",
      "2024-07-18 02:16:24.330622: I tensorflow/compiler/mlir/tensorflow/utils/dump_mlir_util.cc:269] disabling MLIR crash reproducer, set env var `MLIR_CRASH_REPRODUCER_DIRECTORY` to enable.\n",
      "2024-07-18 02:16:24.473931: I ./tensorflow/compiler/jit/device_compiler.h:180] Compiled cluster using XLA!  This line is logged at most once for the lifetime of the process.\n"
     ]
    },
    {
     "name": "stdout",
     "output_type": "stream",
     "text": [
      "106/107 [============================>.] - ETA: 0s - loss: 1.9301"
     ]
    },
    {
     "name": "stderr",
     "output_type": "stream",
     "text": [
      "2024-07-18 02:16:27.863530: I tensorflow/core/common_runtime/executor.cc:1197] [/device:CPU:0] (DEBUG INFO) Executor start aborting (this does not indicate an error and you can ignore this message): INVALID_ARGUMENT: You must feed a value for placeholder tensor 'Placeholder/_2' with dtype string and shape [307]\n",
      "\t [[{{node Placeholder/_2}}]]\n",
      "2024-07-18 02:16:27.863991: I tensorflow/core/common_runtime/executor.cc:1197] [/device:CPU:0] (DEBUG INFO) Executor start aborting (this does not indicate an error and you can ignore this message): INVALID_ARGUMENT: You must feed a value for placeholder tensor 'Placeholder/_2' with dtype string and shape [307]\n",
      "\t [[{{node Placeholder/_2}}]]\n",
      "2024-07-18 02:16:28.381235: W tensorflow/tsl/framework/bfc_allocator.cc:296] Allocator (GPU_0_bfc) ran out of memory trying to allocate 283.59MiB with freed_by_count=0. The caller indicates that this is not a failure, but this may mean that there could be performance gains if more memory were available.\n",
      "2024-07-18 02:16:28.381283: W tensorflow/tsl/framework/bfc_allocator.cc:296] Allocator (GPU_0_bfc) ran out of memory trying to allocate 283.59MiB with freed_by_count=0. The caller indicates that this is not a failure, but this may mean that there could be performance gains if more memory were available.\n"
     ]
    },
    {
     "name": "stdout",
     "output_type": "stream",
     "text": [
      "\n",
      "Epoch 1: saving model to training_checkpoints/cp-0001.ckpt\n"
     ]
    },
    {
     "name": "stderr",
     "output_type": "stream",
     "text": [
      "2024-07-18 02:16:29.976484: W tensorflow/tsl/framework/cpu_allocator_impl.cc:83] Allocation of 9059696640 exceeds 10% of free system memory.\n"
     ]
    },
    {
     "name": "stdout",
     "output_type": "stream",
     "text": [
      "107/107 [==============================] - 13s 96ms/step - loss: 1.9168 - val_loss: 0.5684\n",
      "Epoch 2/20\n",
      "106/107 [============================>.] - ETA: 0s - loss: 0.4824\n",
      "Epoch 2: saving model to training_checkpoints/cp-0002.ckpt\n"
     ]
    },
    {
     "name": "stderr",
     "output_type": "stream",
     "text": [
      "2024-07-18 02:16:40.701172: W tensorflow/tsl/framework/cpu_allocator_impl.cc:83] Allocation of 9059696640 exceeds 10% of free system memory.\n"
     ]
    },
    {
     "name": "stdout",
     "output_type": "stream",
     "text": [
      "107/107 [==============================] - 7s 67ms/step - loss: 0.4826 - val_loss: 0.5000\n",
      "Epoch 3/20\n",
      "106/107 [============================>.] - ETA: 0s - loss: 0.5000\n",
      "Epoch 3: saving model to training_checkpoints/cp-0003.ckpt\n"
     ]
    },
    {
     "name": "stderr",
     "output_type": "stream",
     "text": [
      "2024-07-18 02:16:46.921070: W tensorflow/tsl/framework/cpu_allocator_impl.cc:83] Allocation of 9059696640 exceeds 10% of free system memory.\n"
     ]
    },
    {
     "name": "stdout",
     "output_type": "stream",
     "text": [
      "107/107 [==============================] - 6s 59ms/step - loss: 0.5000 - val_loss: 0.5000\n",
      "Epoch 4/20\n",
      "106/107 [============================>.] - ETA: 0s - loss: 0.5000\n",
      "Epoch 4: saving model to training_checkpoints/cp-0004.ckpt\n"
     ]
    },
    {
     "name": "stderr",
     "output_type": "stream",
     "text": [
      "2024-07-18 02:16:53.293655: W tensorflow/tsl/framework/cpu_allocator_impl.cc:83] Allocation of 9059696640 exceeds 10% of free system memory.\n"
     ]
    },
    {
     "name": "stdout",
     "output_type": "stream",
     "text": [
      "107/107 [==============================] - 6s 57ms/step - loss: 0.5000 - val_loss: 0.5000\n",
      "Epoch 5/20\n",
      "105/107 [============================>.] - ETA: 0s - loss: 0.5000\n",
      "Epoch 5: saving model to training_checkpoints/cp-0005.ckpt\n"
     ]
    },
    {
     "name": "stderr",
     "output_type": "stream",
     "text": [
      "2024-07-18 02:16:59.605584: W tensorflow/tsl/framework/cpu_allocator_impl.cc:83] Allocation of 9059696640 exceeds 10% of free system memory.\n"
     ]
    },
    {
     "name": "stdout",
     "output_type": "stream",
     "text": [
      "107/107 [==============================] - 6s 57ms/step - loss: 0.5000 - val_loss: 0.5000\n",
      "Epoch 6/20\n",
      "106/107 [============================>.] - ETA: 0s - loss: 0.5000\n",
      "Epoch 6: saving model to training_checkpoints/cp-0006.ckpt\n",
      "107/107 [==============================] - 6s 58ms/step - loss: 0.5000 - val_loss: 0.5000\n",
      "Epoch 7/20\n",
      "106/107 [============================>.] - ETA: 0s - loss: 0.5000\n",
      "Epoch 7: saving model to training_checkpoints/cp-0007.ckpt\n",
      "107/107 [==============================] - 6s 56ms/step - loss: 0.5000 - val_loss: 0.5000\n",
      "Epoch 8/20\n",
      "106/107 [============================>.] - ETA: 0s - loss: 0.5000\n",
      "Epoch 8: saving model to training_checkpoints/cp-0008.ckpt\n",
      "107/107 [==============================] - 7s 65ms/step - loss: 0.5000 - val_loss: 0.5000\n",
      "Epoch 9/20\n",
      "106/107 [============================>.] - ETA: 0s - loss: 0.5000\n",
      "Epoch 9: saving model to training_checkpoints/cp-0009.ckpt\n",
      "107/107 [==============================] - 6s 58ms/step - loss: 0.5000 - val_loss: 0.5000\n",
      "Epoch 10/20\n",
      "106/107 [============================>.] - ETA: 0s - loss: 0.5000\n",
      "Epoch 10: saving model to training_checkpoints/cp-0010.ckpt\n",
      "107/107 [==============================] - 6s 57ms/step - loss: 0.5000 - val_loss: 0.5000\n",
      "Epoch 11/20\n",
      "106/107 [============================>.] - ETA: 0s - loss: 0.5000\n",
      "Epoch 11: saving model to training_checkpoints/cp-0011.ckpt\n",
      "107/107 [==============================] - 6s 57ms/step - loss: 0.5000 - val_loss: 0.5000\n",
      "Epoch 12/20\n",
      "106/107 [============================>.] - ETA: 0s - loss: 0.5000\n",
      "Epoch 12: saving model to training_checkpoints/cp-0012.ckpt\n",
      "107/107 [==============================] - 7s 62ms/step - loss: 0.5000 - val_loss: 0.5000\n",
      "Epoch 13/20\n",
      "106/107 [============================>.] - ETA: 0s - loss: 0.5000\n",
      "Epoch 13: saving model to training_checkpoints/cp-0013.ckpt\n",
      "107/107 [==============================] - 6s 54ms/step - loss: 0.5000 - val_loss: 0.5000\n",
      "Epoch 14/20\n",
      "106/107 [============================>.] - ETA: 0s - loss: 0.5000\n",
      "Epoch 14: saving model to training_checkpoints/cp-0014.ckpt\n",
      "107/107 [==============================] - 6s 57ms/step - loss: 0.5000 - val_loss: 0.5000\n",
      "Epoch 15/20\n",
      "106/107 [============================>.] - ETA: 0s - loss: 0.5000\n",
      "Epoch 15: saving model to training_checkpoints/cp-0015.ckpt\n",
      "107/107 [==============================] - 6s 56ms/step - loss: 0.5000 - val_loss: 0.5000\n",
      "Epoch 16/20\n",
      "106/107 [============================>.] - ETA: 0s - loss: 0.5000\n",
      "Epoch 16: saving model to training_checkpoints/cp-0016.ckpt\n",
      "107/107 [==============================] - 6s 55ms/step - loss: 0.5000 - val_loss: 0.5000\n",
      "Epoch 17/20\n",
      "106/107 [============================>.] - ETA: 0s - loss: 0.5000\n",
      "Epoch 17: saving model to training_checkpoints/cp-0017.ckpt\n",
      "107/107 [==============================] - 6s 57ms/step - loss: 0.5000 - val_loss: 0.5000\n",
      "Epoch 18/20\n",
      "106/107 [============================>.] - ETA: 0s - loss: 0.5000\n",
      "Epoch 18: saving model to training_checkpoints/cp-0018.ckpt\n",
      "107/107 [==============================] - 6s 58ms/step - loss: 0.5000 - val_loss: 0.5000\n",
      "Epoch 19/20\n",
      "106/107 [============================>.] - ETA: 0s - loss: 0.5000\n",
      "Epoch 19: saving model to training_checkpoints/cp-0019.ckpt\n",
      "107/107 [==============================] - 6s 60ms/step - loss: 0.5000 - val_loss: 0.5000\n",
      "Epoch 20/20\n",
      "106/107 [============================>.] - ETA: 0s - loss: 0.5000\n",
      "Epoch 20: saving model to training_checkpoints/cp-0020.ckpt\n",
      "107/107 [==============================] - 6s 55ms/step - loss: 0.5000 - val_loss: 0.5000\n"
     ]
    }
   ],
   "source": [
    "# Train the triplet model\n",
    "epochs = 20\n",
    "history = triplet_model.fit(\n",
    "    train_data, \n",
    "    validation_data=test_data, \n",
    "    epochs=epochs, \n",
    "    callbacks=[cp_callback, tensorboard_callback]\n",
    ")"
   ]
  },
  {
   "cell_type": "code",
   "execution_count": null,
   "metadata": {},
   "outputs": [],
   "source": []
  },
  {
   "cell_type": "code",
   "execution_count": 22,
   "metadata": {},
   "outputs": [
    {
     "data": {
      "image/png": "[encoded data removed]",
      "text/plain": [
       "<Figure size 640x480 with 1 Axes>"
      ]
     },
     "metadata": {},
     "output_type": "display_data"
    }
   ],
   "source": [
    "import matplotlib.pyplot as plt\n",
    "\n",
    "# Plot training & validation loss values\n",
    "plt.plot(history.history['loss'])\n",
    "plt.plot(history.history['val_loss'])\n",
    "plt.title('Model Loss')\n",
    "plt.xlabel('Epoch')\n",
    "plt.ylabel('Loss')\n",
    "plt.legend(['Train', 'Validation'], loc='upper right')\n",
    "plt.show()\n"
   ]
  },
  {
   "cell_type": "code",
   "execution_count": 27,
   "metadata": {},
   "outputs": [],
   "source": [
    "triplet_model.save('triplet_model.h5')"
   ]
  },
  {
   "cell_type": "code",
   "execution_count": 28,
   "metadata": {},
   "outputs": [],
   "source": [
    "from tensorflow.keras.metrics import Precision, Recall"
   ]
  },
  {
   "cell_type": "code",
   "execution_count": null,
   "metadata": {},
   "outputs": [],
   "source": []
  }
 ],
 "metadata": {
  "kernelspec": {
   "display_name": "face",
   "language": "python",
   "name": "python3"
  },
  "language_info": {
   "codemirror_mode": {
    "name": "ipython",
    "version": 3
   },
   "file_extension": ".py",
   "mimetype": "text/x-python",
   "name": "python",
   "nbconvert_exporter": "python",
   "pygments_lexer": "ipython3",
   "version": "3.10.12"
  }
 },
 "nbformat": 4,
 "nbformat_minor": 2
}
